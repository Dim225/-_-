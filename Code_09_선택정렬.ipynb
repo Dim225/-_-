{
 "cells": [
  {
   "cell_type": "markdown",
   "id": "cf514690",
   "metadata": {},
   "source": [
    "# 선택정렬"
   ]
  },
  {
   "cell_type": "markdown",
   "id": "e7a91a30",
   "metadata": {},
   "source": [
    "- 09_01"
   ]
  },
  {
   "cell_type": "code",
   "execution_count": 2,
   "id": "dad8591c",
   "metadata": {},
   "outputs": [
    {
     "name": "stdout",
     "output_type": "stream",
     "text": [
      "정렬 전 --> [72, 73, 64, 49, 52, 38, 40, 80]\n",
      "정렬 후 --> [38, 40, 49, 52, 64, 72, 73, 80]\n"
     ]
    }
   ],
   "source": [
    "import random\n",
    "## 함수\n",
    "def findMinIndex(ary) : # ary에서 제일 작은 위치를 찾기\n",
    "    minIndex = 0\n",
    "    for i in range(1, len(ary)) :\n",
    "        if ( ary[minIndex] > ary[i]) :\n",
    "            minIndex = i\n",
    "    return minIndex\n",
    "\n",
    "## 전역\n",
    "before = [random.randint(1, 100) for _ in range(8)]\n",
    "after = []\n",
    "\n",
    "## 메인\n",
    "print('정렬 전 -->', before)\n",
    "for i in range(len(before)) :\n",
    "    minPos = findMinIndex(before)\n",
    "    after.append(before[minPos])\n",
    "    del(before[minPos])\n",
    "print('정렬 후 -->', after)"
   ]
  },
  {
   "cell_type": "markdown",
   "id": "5347c1f7",
   "metadata": {},
   "source": [
    "- 09_02"
   ]
  },
  {
   "cell_type": "code",
   "execution_count": 3,
   "id": "8cd0ae6c",
   "metadata": {},
   "outputs": [
    {
     "name": "stdout",
     "output_type": "stream",
     "text": [
      "정렬 전 --> [67, 84, 13, 11, 87, 27, 96, 89]\n",
      "정렬 후 --> [11, 13, 27, 67, 84, 87, 89, 96]\n"
     ]
    }
   ],
   "source": [
    "import random\n",
    "## 함수\n",
    "def selctionSort(ary) :\n",
    "    n = len(ary)\n",
    "    for i in range(0, n-1) : # Cycle\n",
    "        minIndex = i\n",
    "        for k in range(i+1, n) :\n",
    "            if (ary[minIndex] > ary[k]) :\n",
    "                minIndex = k\n",
    "\n",
    "        ary[i], ary[minIndex] = ary[minIndex], ary[i]\n",
    "\n",
    "    return ary\n",
    "\n",
    "## 변수\n",
    "dataAry = [random.randint(1, 100) for _ in range(8)]\n",
    "\n",
    "## 메인\n",
    "print('정렬 전 -->', dataAry)\n",
    "dataAry = selctionSort(dataAry) # sorted(배열)\n",
    "print('정렬 후 -->', dataAry)"
   ]
  }
 ],
 "metadata": {
  "kernelspec": {
   "display_name": "Python 3 (ipykernel)",
   "language": "python",
   "name": "python3"
  },
  "language_info": {
   "codemirror_mode": {
    "name": "ipython",
    "version": 3
   },
   "file_extension": ".py",
   "mimetype": "text/x-python",
   "name": "python",
   "nbconvert_exporter": "python",
   "pygments_lexer": "ipython3",
   "version": "3.9.7"
  }
 },
 "nbformat": 4,
 "nbformat_minor": 5
}
