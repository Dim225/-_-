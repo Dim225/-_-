{
 "cells": [
  {
   "cell_type": "markdown",
   "id": "093c5200",
   "metadata": {},
   "source": [
    "# 선형 리스트"
   ]
  },
  {
   "cell_type": "markdown",
   "id": "31c3052c",
   "metadata": {},
   "source": [
    "- 03_01 선형 리스트 추가"
   ]
  },
  {
   "cell_type": "code",
   "execution_count": 3,
   "id": "d73c49ca",
   "metadata": {},
   "outputs": [
    {
     "name": "stdout",
     "output_type": "stream",
     "text": [
      "['다현', '정연', '쯔위', '사나', '지효', '모모']\n"
     ]
    }
   ],
   "source": [
    "katok = []\n",
    "\n",
    "# 친구 추가 함수\n",
    "def add_data(friend):\n",
    "    katok.append(None)\n",
    "    kLen = len(katok)\n",
    "    katok[kLen-1] = friend\n",
    "\n",
    "# 친구 추가\n",
    "add_data('다현')\n",
    "add_data('정연')\n",
    "add_data('쯔위')\n",
    "add_data('사나')\n",
    "add_data('지효')\n",
    "add_data('모모')\n",
    "print(katok)"
   ]
  },
  {
   "cell_type": "markdown",
   "id": "84ba0c5f",
   "metadata": {},
   "source": [
    "- 03_02 데이터 삽입: 중간 삽입"
   ]
  },
  {
   "cell_type": "code",
   "execution_count": 5,
   "id": "beebf123",
   "metadata": {},
   "outputs": [
    {
     "name": "stdout",
     "output_type": "stream",
     "text": [
      "['다현', '정연', '쯔위', '미나', '사나', '지효', '모모']\n"
     ]
    }
   ],
   "source": [
    "katok = ['다현', '정연', '쯔위', '사나', '지효', '모모']\n",
    "\n",
    "def insert_data(position, friend):\n",
    "    katok.append(None)\n",
    "    kLen = len(katok)\n",
    "    \n",
    "    for i in range(kLen-1, position, -1):\n",
    "        katok[i] = katok[i-1]\n",
    "        katok[i-1] = None\n",
    "    \n",
    "    katok[position] = friend\n",
    "\n",
    "insert_data(3, '미나')\n",
    "print(katok)"
   ]
  },
  {
   "cell_type": "markdown",
   "id": "2a74230f",
   "metadata": {},
   "source": [
    "- 03_03 데이터 삭제: 중간 삭제"
   ]
  },
  {
   "cell_type": "code",
   "execution_count": 6,
   "id": "0ddedbe9",
   "metadata": {},
   "outputs": [
    {
     "name": "stdout",
     "output_type": "stream",
     "text": [
      "['다현', '정연', '쯔위', '미나', '지효', '모모']\n"
     ]
    }
   ],
   "source": [
    "katok = ['다현', '정연', '쯔위', '미나', '사나', '지효', '모모']\n",
    "\n",
    "def delete_data(position):\n",
    "    kLen = len(katok)\n",
    "    katok[position] = None\n",
    "    \n",
    "    for i in range(position+1, kLen, 1):\n",
    "        katok[i-1] = katok[i]\n",
    "        katok[i] = None\n",
    "    \n",
    "    del(katok[kLen-1])\n",
    "    \n",
    "delete_data(4)\n",
    "print(katok)"
   ]
  },
  {
   "cell_type": "markdown",
   "id": "923cc196",
   "metadata": {},
   "source": [
    "- 03_04"
   ]
  },
  {
   "cell_type": "code",
   "execution_count": 8,
   "id": "2989a224",
   "metadata": {},
   "outputs": [
    {
     "name": "stdout",
     "output_type": "stream",
     "text": [
      "선택하세요(1: 추가, 2: 삽입, 3: 삭제, 4: 종료)--> 1\n",
      "추가할 데이터--> 문별\n",
      "['문별']\n",
      "선택하세요(1: 추가, 2: 삽입, 3: 삭제, 4: 종료)--> 2\n",
      "삽입할 위치--> 1\n",
      "추가할 데이터--> 솔라\n",
      "['문별', '솔라']\n",
      "선택하세요(1: 추가, 2: 삽입, 3: 삭제, 4: 종료)--> 3\n",
      "삭제할 위치--> 1\n",
      "['문별']\n",
      "선택하세요(1: 추가, 2: 삽입, 3: 삭제, 4: 종료)--> 2\n",
      "삽입할 위치--> 0\n",
      "추가할 데이터--> 솔라\n",
      "['솔라', '문별']\n",
      "선택하세요(1: 추가, 2: 삽입, 3: 삭제, 4: 종료)--> 3\n",
      "삭제할 위치--> 1\n",
      "['솔라']\n",
      "선택하세요(1: 추가, 2: 삽입, 3: 삭제, 4: 종료)--> 4\n",
      "['솔라']\n"
     ]
    }
   ],
   "source": [
    "### 함수 선언부\n",
    "def add_data(friend):\n",
    "    katok.append(None)\n",
    "    kLen = len(katok)\n",
    "    katok[kLen-1] = friend\n",
    "\n",
    "def insert_data(position, friend):\n",
    "    katok.append(None)\n",
    "    kLen = len(katok)\n",
    "    \n",
    "    for i in range(kLen-1, position, -1):\n",
    "        katok[i] = katok[i-1]\n",
    "        katok[i-1] = None\n",
    "    \n",
    "    katok[position] = friend\n",
    "    \n",
    "def delete_data(position):\n",
    "    kLen = len(katok)\n",
    "    katok[position] = None\n",
    "    \n",
    "    for i in range(position+1, kLen, 1):\n",
    "        katok[i-1] = katok[i]\n",
    "        katok[i] = None\n",
    "    \n",
    "    del(katok[kLen-1])\n",
    "\n",
    "### 전역 변수부\n",
    "katok = []\n",
    "select = -1\n",
    "\n",
    "### 메인 코드부\n",
    "while (select != 4):\n",
    "\n",
    "    select = int(input(\"선택하세요(1: 추가, 2: 삽입, 3: 삭제, 4: 종료)--> \"))\n",
    "\n",
    "    if (select == 1) :\n",
    "        data = input(\"추가할 데이터--> \")\n",
    "        add_data(data)\n",
    "        print(katok)\n",
    "    elif (select == 2) :\n",
    "        pos = int(input(\"삽입할 위치--> \"))\n",
    "        data = input(\"추가할 데이터--> \")\n",
    "        insert_data(pos, data)\n",
    "        print(katok)\n",
    "    elif (select == 3) :\n",
    "        pos = int(input(\"삭제할 위치--> \"))\n",
    "        delete_data(pos)\n",
    "        print(katok)\n",
    "    elif (select == 4) :\n",
    "        print(katok)\n",
    "        exit\n",
    "    else :\n",
    "        print(\"1~4 중 하나를 입력하세요.\")\n",
    "        continue"
   ]
  },
  {
   "cell_type": "code",
   "execution_count": null,
   "id": "4d1302cc",
   "metadata": {},
   "outputs": [],
   "source": []
  }
 ],
 "metadata": {
  "kernelspec": {
   "display_name": "Python 3 (ipykernel)",
   "language": "python",
   "name": "python3"
  },
  "language_info": {
   "codemirror_mode": {
    "name": "ipython",
    "version": 3
   },
   "file_extension": ".py",
   "mimetype": "text/x-python",
   "name": "python",
   "nbconvert_exporter": "python",
   "pygments_lexer": "ipython3",
   "version": "3.9.7"
  }
 },
 "nbformat": 4,
 "nbformat_minor": 5
}
