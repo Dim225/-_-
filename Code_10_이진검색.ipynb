{
 "cells": [
  {
   "cell_type": "markdown",
   "id": "74374026",
   "metadata": {},
   "source": [
    "# 이진검색"
   ]
  },
  {
   "cell_type": "markdown",
   "id": "fa389e4d",
   "metadata": {},
   "source": [
    "- 10_01"
   ]
  },
  {
   "cell_type": "code",
   "execution_count": 1,
   "id": "b61d9860",
   "metadata": {},
   "outputs": [
    {
     "name": "stdout",
     "output_type": "stream",
     "text": [
      "배열--> [50, 60, 105, 120, 150, 160, 162, 168, 177, 188]\n",
      "162 가  6  위치에 있음\n"
     ]
    }
   ],
   "source": [
    "## 함수\n",
    "def binarySearch(ary, fData) :\n",
    "    pos = -1\n",
    "    start = 0\n",
    "    end = len(ary) -1\n",
    "\n",
    "    while (start <= end) :\n",
    "        mid = (start + end) // 2\n",
    "        if ary[mid] == fData :\n",
    "            return mid\n",
    "        elif fData > ary[mid] :\n",
    "            start = mid + 1\n",
    "        else :\n",
    "            end = mid - 1\n",
    "\n",
    "    return pos\n",
    "\n",
    "## 전역\n",
    "dataAry = [50, 60, 105, 120, 150, 160, 162, 168, 177, 188]\n",
    "findData = 162 # 할머니키\n",
    "\n",
    "## 메인\n",
    "print('배열-->', dataAry)\n",
    "position = binarySearch(dataAry, findData)\n",
    "if position == -1 :\n",
    "    print(findData, '가 없음....')\n",
    "else :\n",
    "    print(findData, '가 ', position, ' 위치에 있음')"
   ]
  },
  {
   "cell_type": "markdown",
   "id": "7a8361f4",
   "metadata": {},
   "source": [
    "- 10_02"
   ]
  },
  {
   "cell_type": "code",
   "execution_count": 2,
   "id": "7c0bedfd",
   "metadata": {},
   "outputs": [
    {
     "name": "stdout",
     "output_type": "stream",
     "text": [
      "1256786 가  125233  위치에 있음( 19 회)\n"
     ]
    }
   ],
   "source": [
    "import random\n",
    "## 함수\n",
    "def binarySearch(ary, fData) :\n",
    "    pos = -1\n",
    "    start = 0\n",
    "    end = len(ary) -1\n",
    "\n",
    "    count = 0\n",
    "    while (start <= end) :\n",
    "        count += 1\n",
    "        mid = (start + end) // 2\n",
    "        if ary[mid] == fData :\n",
    "            return mid, count\n",
    "        elif fData > ary[mid] :\n",
    "            start = mid + 1\n",
    "        else :\n",
    "            end = mid - 1\n",
    "\n",
    "    return pos, count\n",
    "\n",
    "## 전역\n",
    "dataAry = [random.randint(1, 10000000) for _ in range(1000000)]\n",
    "findData = random.choice(dataAry)\n",
    "dataAry.sort()\n",
    "\n",
    "## 메인\n",
    "#print('배열-->', dataAry)\n",
    "position, cnt = binarySearch(dataAry, findData)\n",
    "if position == -1 :\n",
    "    print(findData, '가 없음....')\n",
    "else :\n",
    "    print(findData, '가 ', position, ' 위치에 있음(', cnt , '회)')"
   ]
  }
 ],
 "metadata": {
  "kernelspec": {
   "display_name": "Python 3 (ipykernel)",
   "language": "python",
   "name": "python3"
  },
  "language_info": {
   "codemirror_mode": {
    "name": "ipython",
    "version": 3
   },
   "file_extension": ".py",
   "mimetype": "text/x-python",
   "name": "python",
   "nbconvert_exporter": "python",
   "pygments_lexer": "ipython3",
   "version": "3.9.7"
  }
 },
 "nbformat": 4,
 "nbformat_minor": 5
}
